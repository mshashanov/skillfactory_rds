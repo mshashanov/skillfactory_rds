{
 "cells": [
  {
   "cell_type": "markdown",
   "metadata": {},
   "source": [
    "# Цели и задачи проекта"
   ]
  },
  {
   "cell_type": "markdown",
   "metadata": {},
   "source": [
    "# Первичный анализ данных\n",
    "Импортируем библиотеки и прочитаем файл с данными:"
   ]
  },
  {
   "cell_type": "code",
   "execution_count": 1,
   "metadata": {},
   "outputs": [],
   "source": [
    "import pandas as pd\n",
    "import numpy as np\n",
    "from math import nan\n",
    "import matplotlib.pyplot as plt\n",
    "import seaborn as sns\n",
    "from itertools import combinations\n",
    "from scipy.stats import ttest_ind\n",
    "\n",
    "pd.set_option('display.max_rows', 50) # показывать больше строк\n",
    "pd.set_option('display.max_columns', 50) # показывать больше колонок\n",
    "\n",
    "df = pd.read_csv('stud_math.csv')\n",
    "\n",
    "df.columns = [col.lower() for col in df.columns]"
   ]
  },
  {
   "cell_type": "markdown",
   "metadata": {},
   "source": [
    "Рассмотрим, какие данные хранятся в файле и какие типы данных у столбцов:"
   ]
  },
  {
   "cell_type": "code",
   "execution_count": 2,
   "metadata": {},
   "outputs": [
    {
     "data": {
      "text/html": [
       "<div>\n",
       "<style scoped>\n",
       "    .dataframe tbody tr th:only-of-type {\n",
       "        vertical-align: middle;\n",
       "    }\n",
       "\n",
       "    .dataframe tbody tr th {\n",
       "        vertical-align: top;\n",
       "    }\n",
       "\n",
       "    .dataframe thead th {\n",
       "        text-align: right;\n",
       "    }\n",
       "</style>\n",
       "<table border=\"1\" class=\"dataframe\">\n",
       "  <thead>\n",
       "    <tr style=\"text-align: right;\">\n",
       "      <th></th>\n",
       "      <th>school</th>\n",
       "      <th>sex</th>\n",
       "      <th>age</th>\n",
       "      <th>address</th>\n",
       "      <th>famsize</th>\n",
       "      <th>pstatus</th>\n",
       "      <th>medu</th>\n",
       "      <th>fedu</th>\n",
       "      <th>mjob</th>\n",
       "      <th>fjob</th>\n",
       "      <th>reason</th>\n",
       "      <th>guardian</th>\n",
       "      <th>traveltime</th>\n",
       "      <th>studytime</th>\n",
       "      <th>failures</th>\n",
       "      <th>schoolsup</th>\n",
       "      <th>famsup</th>\n",
       "      <th>paid</th>\n",
       "      <th>activities</th>\n",
       "      <th>nursery</th>\n",
       "      <th>studytime, granular</th>\n",
       "      <th>higher</th>\n",
       "      <th>internet</th>\n",
       "      <th>romantic</th>\n",
       "      <th>famrel</th>\n",
       "      <th>freetime</th>\n",
       "      <th>goout</th>\n",
       "      <th>health</th>\n",
       "      <th>absences</th>\n",
       "      <th>score</th>\n",
       "    </tr>\n",
       "  </thead>\n",
       "  <tbody>\n",
       "    <tr>\n",
       "      <th>0</th>\n",
       "      <td>GP</td>\n",
       "      <td>F</td>\n",
       "      <td>18</td>\n",
       "      <td>U</td>\n",
       "      <td>NaN</td>\n",
       "      <td>A</td>\n",
       "      <td>4.0</td>\n",
       "      <td>4.0</td>\n",
       "      <td>at_home</td>\n",
       "      <td>teacher</td>\n",
       "      <td>course</td>\n",
       "      <td>mother</td>\n",
       "      <td>2.0</td>\n",
       "      <td>2.0</td>\n",
       "      <td>0.0</td>\n",
       "      <td>yes</td>\n",
       "      <td>no</td>\n",
       "      <td>no</td>\n",
       "      <td>no</td>\n",
       "      <td>yes</td>\n",
       "      <td>-6.0</td>\n",
       "      <td>yes</td>\n",
       "      <td>NaN</td>\n",
       "      <td>no</td>\n",
       "      <td>4.0</td>\n",
       "      <td>3.0</td>\n",
       "      <td>4.0</td>\n",
       "      <td>3.0</td>\n",
       "      <td>6.0</td>\n",
       "      <td>30.0</td>\n",
       "    </tr>\n",
       "    <tr>\n",
       "      <th>1</th>\n",
       "      <td>GP</td>\n",
       "      <td>F</td>\n",
       "      <td>17</td>\n",
       "      <td>U</td>\n",
       "      <td>GT3</td>\n",
       "      <td>NaN</td>\n",
       "      <td>1.0</td>\n",
       "      <td>1.0</td>\n",
       "      <td>at_home</td>\n",
       "      <td>other</td>\n",
       "      <td>course</td>\n",
       "      <td>father</td>\n",
       "      <td>1.0</td>\n",
       "      <td>2.0</td>\n",
       "      <td>0.0</td>\n",
       "      <td>no</td>\n",
       "      <td>yes</td>\n",
       "      <td>no</td>\n",
       "      <td>no</td>\n",
       "      <td>no</td>\n",
       "      <td>-6.0</td>\n",
       "      <td>yes</td>\n",
       "      <td>yes</td>\n",
       "      <td>no</td>\n",
       "      <td>5.0</td>\n",
       "      <td>3.0</td>\n",
       "      <td>3.0</td>\n",
       "      <td>3.0</td>\n",
       "      <td>4.0</td>\n",
       "      <td>30.0</td>\n",
       "    </tr>\n",
       "    <tr>\n",
       "      <th>2</th>\n",
       "      <td>GP</td>\n",
       "      <td>F</td>\n",
       "      <td>15</td>\n",
       "      <td>U</td>\n",
       "      <td>LE3</td>\n",
       "      <td>T</td>\n",
       "      <td>1.0</td>\n",
       "      <td>1.0</td>\n",
       "      <td>at_home</td>\n",
       "      <td>other</td>\n",
       "      <td>other</td>\n",
       "      <td>mother</td>\n",
       "      <td>1.0</td>\n",
       "      <td>2.0</td>\n",
       "      <td>3.0</td>\n",
       "      <td>yes</td>\n",
       "      <td>no</td>\n",
       "      <td>NaN</td>\n",
       "      <td>no</td>\n",
       "      <td>yes</td>\n",
       "      <td>-6.0</td>\n",
       "      <td>yes</td>\n",
       "      <td>yes</td>\n",
       "      <td>NaN</td>\n",
       "      <td>4.0</td>\n",
       "      <td>3.0</td>\n",
       "      <td>2.0</td>\n",
       "      <td>3.0</td>\n",
       "      <td>10.0</td>\n",
       "      <td>50.0</td>\n",
       "    </tr>\n",
       "    <tr>\n",
       "      <th>3</th>\n",
       "      <td>GP</td>\n",
       "      <td>F</td>\n",
       "      <td>15</td>\n",
       "      <td>U</td>\n",
       "      <td>GT3</td>\n",
       "      <td>T</td>\n",
       "      <td>4.0</td>\n",
       "      <td>2.0</td>\n",
       "      <td>health</td>\n",
       "      <td>NaN</td>\n",
       "      <td>home</td>\n",
       "      <td>mother</td>\n",
       "      <td>1.0</td>\n",
       "      <td>3.0</td>\n",
       "      <td>0.0</td>\n",
       "      <td>no</td>\n",
       "      <td>yes</td>\n",
       "      <td>yes</td>\n",
       "      <td>yes</td>\n",
       "      <td>yes</td>\n",
       "      <td>-9.0</td>\n",
       "      <td>yes</td>\n",
       "      <td>yes</td>\n",
       "      <td>yes</td>\n",
       "      <td>3.0</td>\n",
       "      <td>2.0</td>\n",
       "      <td>2.0</td>\n",
       "      <td>5.0</td>\n",
       "      <td>2.0</td>\n",
       "      <td>75.0</td>\n",
       "    </tr>\n",
       "    <tr>\n",
       "      <th>4</th>\n",
       "      <td>GP</td>\n",
       "      <td>F</td>\n",
       "      <td>16</td>\n",
       "      <td>U</td>\n",
       "      <td>GT3</td>\n",
       "      <td>T</td>\n",
       "      <td>3.0</td>\n",
       "      <td>3.0</td>\n",
       "      <td>other</td>\n",
       "      <td>other</td>\n",
       "      <td>home</td>\n",
       "      <td>father</td>\n",
       "      <td>1.0</td>\n",
       "      <td>2.0</td>\n",
       "      <td>0.0</td>\n",
       "      <td>no</td>\n",
       "      <td>yes</td>\n",
       "      <td>yes</td>\n",
       "      <td>no</td>\n",
       "      <td>yes</td>\n",
       "      <td>-6.0</td>\n",
       "      <td>yes</td>\n",
       "      <td>no</td>\n",
       "      <td>no</td>\n",
       "      <td>4.0</td>\n",
       "      <td>3.0</td>\n",
       "      <td>2.0</td>\n",
       "      <td>5.0</td>\n",
       "      <td>4.0</td>\n",
       "      <td>50.0</td>\n",
       "    </tr>\n",
       "    <tr>\n",
       "      <th>5</th>\n",
       "      <td>GP</td>\n",
       "      <td>M</td>\n",
       "      <td>16</td>\n",
       "      <td>U</td>\n",
       "      <td>LE3</td>\n",
       "      <td>T</td>\n",
       "      <td>4.0</td>\n",
       "      <td>3.0</td>\n",
       "      <td>services</td>\n",
       "      <td>other</td>\n",
       "      <td>reputation</td>\n",
       "      <td>mother</td>\n",
       "      <td>1.0</td>\n",
       "      <td>2.0</td>\n",
       "      <td>0.0</td>\n",
       "      <td>no</td>\n",
       "      <td>yes</td>\n",
       "      <td>yes</td>\n",
       "      <td>yes</td>\n",
       "      <td>yes</td>\n",
       "      <td>-6.0</td>\n",
       "      <td>yes</td>\n",
       "      <td>yes</td>\n",
       "      <td>no</td>\n",
       "      <td>5.0</td>\n",
       "      <td>4.0</td>\n",
       "      <td>2.0</td>\n",
       "      <td>5.0</td>\n",
       "      <td>10.0</td>\n",
       "      <td>75.0</td>\n",
       "    </tr>\n",
       "    <tr>\n",
       "      <th>6</th>\n",
       "      <td>GP</td>\n",
       "      <td>M</td>\n",
       "      <td>16</td>\n",
       "      <td>NaN</td>\n",
       "      <td>LE3</td>\n",
       "      <td>T</td>\n",
       "      <td>2.0</td>\n",
       "      <td>2.0</td>\n",
       "      <td>other</td>\n",
       "      <td>other</td>\n",
       "      <td>home</td>\n",
       "      <td>mother</td>\n",
       "      <td>1.0</td>\n",
       "      <td>2.0</td>\n",
       "      <td>0.0</td>\n",
       "      <td>no</td>\n",
       "      <td>no</td>\n",
       "      <td>no</td>\n",
       "      <td>no</td>\n",
       "      <td>yes</td>\n",
       "      <td>-6.0</td>\n",
       "      <td>yes</td>\n",
       "      <td>yes</td>\n",
       "      <td>no</td>\n",
       "      <td>4.0</td>\n",
       "      <td>4.0</td>\n",
       "      <td>4.0</td>\n",
       "      <td>3.0</td>\n",
       "      <td>0.0</td>\n",
       "      <td>55.0</td>\n",
       "    </tr>\n",
       "    <tr>\n",
       "      <th>7</th>\n",
       "      <td>GP</td>\n",
       "      <td>F</td>\n",
       "      <td>17</td>\n",
       "      <td>U</td>\n",
       "      <td>GT3</td>\n",
       "      <td>A</td>\n",
       "      <td>4.0</td>\n",
       "      <td>4.0</td>\n",
       "      <td>other</td>\n",
       "      <td>teacher</td>\n",
       "      <td>home</td>\n",
       "      <td>mother</td>\n",
       "      <td>2.0</td>\n",
       "      <td>2.0</td>\n",
       "      <td>0.0</td>\n",
       "      <td>yes</td>\n",
       "      <td>yes</td>\n",
       "      <td>no</td>\n",
       "      <td>no</td>\n",
       "      <td>yes</td>\n",
       "      <td>-6.0</td>\n",
       "      <td>yes</td>\n",
       "      <td>no</td>\n",
       "      <td>no</td>\n",
       "      <td>4.0</td>\n",
       "      <td>1.0</td>\n",
       "      <td>4.0</td>\n",
       "      <td>1.0</td>\n",
       "      <td>6.0</td>\n",
       "      <td>30.0</td>\n",
       "    </tr>\n",
       "    <tr>\n",
       "      <th>8</th>\n",
       "      <td>GP</td>\n",
       "      <td>M</td>\n",
       "      <td>15</td>\n",
       "      <td>U</td>\n",
       "      <td>LE3</td>\n",
       "      <td>A</td>\n",
       "      <td>3.0</td>\n",
       "      <td>2.0</td>\n",
       "      <td>services</td>\n",
       "      <td>other</td>\n",
       "      <td>home</td>\n",
       "      <td>mother</td>\n",
       "      <td>1.0</td>\n",
       "      <td>2.0</td>\n",
       "      <td>0.0</td>\n",
       "      <td>no</td>\n",
       "      <td>yes</td>\n",
       "      <td>yes</td>\n",
       "      <td>no</td>\n",
       "      <td>yes</td>\n",
       "      <td>-6.0</td>\n",
       "      <td>yes</td>\n",
       "      <td>yes</td>\n",
       "      <td>no</td>\n",
       "      <td>NaN</td>\n",
       "      <td>2.0</td>\n",
       "      <td>2.0</td>\n",
       "      <td>1.0</td>\n",
       "      <td>0.0</td>\n",
       "      <td>95.0</td>\n",
       "    </tr>\n",
       "    <tr>\n",
       "      <th>9</th>\n",
       "      <td>GP</td>\n",
       "      <td>M</td>\n",
       "      <td>15</td>\n",
       "      <td>U</td>\n",
       "      <td>NaN</td>\n",
       "      <td>NaN</td>\n",
       "      <td>3.0</td>\n",
       "      <td>4.0</td>\n",
       "      <td>other</td>\n",
       "      <td>other</td>\n",
       "      <td>home</td>\n",
       "      <td>mother</td>\n",
       "      <td>1.0</td>\n",
       "      <td>2.0</td>\n",
       "      <td>0.0</td>\n",
       "      <td>no</td>\n",
       "      <td>yes</td>\n",
       "      <td>yes</td>\n",
       "      <td>yes</td>\n",
       "      <td>yes</td>\n",
       "      <td>-6.0</td>\n",
       "      <td>yes</td>\n",
       "      <td>yes</td>\n",
       "      <td>no</td>\n",
       "      <td>5.0</td>\n",
       "      <td>5.0</td>\n",
       "      <td>1.0</td>\n",
       "      <td>5.0</td>\n",
       "      <td>0.0</td>\n",
       "      <td>75.0</td>\n",
       "    </tr>\n",
       "    <tr>\n",
       "      <th>10</th>\n",
       "      <td>GP</td>\n",
       "      <td>F</td>\n",
       "      <td>15</td>\n",
       "      <td>U</td>\n",
       "      <td>GT3</td>\n",
       "      <td>T</td>\n",
       "      <td>4.0</td>\n",
       "      <td>4.0</td>\n",
       "      <td>teacher</td>\n",
       "      <td>health</td>\n",
       "      <td>reputation</td>\n",
       "      <td>mother</td>\n",
       "      <td>1.0</td>\n",
       "      <td>2.0</td>\n",
       "      <td>0.0</td>\n",
       "      <td>no</td>\n",
       "      <td>yes</td>\n",
       "      <td>yes</td>\n",
       "      <td>no</td>\n",
       "      <td>yes</td>\n",
       "      <td>-6.0</td>\n",
       "      <td>yes</td>\n",
       "      <td>yes</td>\n",
       "      <td>no</td>\n",
       "      <td>3.0</td>\n",
       "      <td>3.0</td>\n",
       "      <td>3.0</td>\n",
       "      <td>2.0</td>\n",
       "      <td>0.0</td>\n",
       "      <td>45.0</td>\n",
       "    </tr>\n",
       "    <tr>\n",
       "      <th>11</th>\n",
       "      <td>GP</td>\n",
       "      <td>F</td>\n",
       "      <td>15</td>\n",
       "      <td>U</td>\n",
       "      <td>GT3</td>\n",
       "      <td>NaN</td>\n",
       "      <td>2.0</td>\n",
       "      <td>40.0</td>\n",
       "      <td>services</td>\n",
       "      <td>other</td>\n",
       "      <td>reputation</td>\n",
       "      <td>father</td>\n",
       "      <td>3.0</td>\n",
       "      <td>3.0</td>\n",
       "      <td>0.0</td>\n",
       "      <td>no</td>\n",
       "      <td>yes</td>\n",
       "      <td>no</td>\n",
       "      <td>yes</td>\n",
       "      <td>yes</td>\n",
       "      <td>-9.0</td>\n",
       "      <td>yes</td>\n",
       "      <td>yes</td>\n",
       "      <td>no</td>\n",
       "      <td>5.0</td>\n",
       "      <td>2.0</td>\n",
       "      <td>2.0</td>\n",
       "      <td>4.0</td>\n",
       "      <td>4.0</td>\n",
       "      <td>60.0</td>\n",
       "    </tr>\n",
       "    <tr>\n",
       "      <th>12</th>\n",
       "      <td>GP</td>\n",
       "      <td>M</td>\n",
       "      <td>15</td>\n",
       "      <td>U</td>\n",
       "      <td>LE3</td>\n",
       "      <td>T</td>\n",
       "      <td>4.0</td>\n",
       "      <td>4.0</td>\n",
       "      <td>health</td>\n",
       "      <td>services</td>\n",
       "      <td>course</td>\n",
       "      <td>father</td>\n",
       "      <td>1.0</td>\n",
       "      <td>1.0</td>\n",
       "      <td>0.0</td>\n",
       "      <td>no</td>\n",
       "      <td>yes</td>\n",
       "      <td>yes</td>\n",
       "      <td>yes</td>\n",
       "      <td>yes</td>\n",
       "      <td>-3.0</td>\n",
       "      <td>yes</td>\n",
       "      <td>NaN</td>\n",
       "      <td>no</td>\n",
       "      <td>NaN</td>\n",
       "      <td>3.0</td>\n",
       "      <td>3.0</td>\n",
       "      <td>5.0</td>\n",
       "      <td>2.0</td>\n",
       "      <td>70.0</td>\n",
       "    </tr>\n",
       "    <tr>\n",
       "      <th>13</th>\n",
       "      <td>GP</td>\n",
       "      <td>M</td>\n",
       "      <td>15</td>\n",
       "      <td>U</td>\n",
       "      <td>GT3</td>\n",
       "      <td>T</td>\n",
       "      <td>4.0</td>\n",
       "      <td>3.0</td>\n",
       "      <td>teacher</td>\n",
       "      <td>other</td>\n",
       "      <td>course</td>\n",
       "      <td>mother</td>\n",
       "      <td>2.0</td>\n",
       "      <td>2.0</td>\n",
       "      <td>0.0</td>\n",
       "      <td>no</td>\n",
       "      <td>yes</td>\n",
       "      <td>yes</td>\n",
       "      <td>no</td>\n",
       "      <td>yes</td>\n",
       "      <td>-6.0</td>\n",
       "      <td>yes</td>\n",
       "      <td>yes</td>\n",
       "      <td>NaN</td>\n",
       "      <td>5.0</td>\n",
       "      <td>4.0</td>\n",
       "      <td>3.0</td>\n",
       "      <td>3.0</td>\n",
       "      <td>2.0</td>\n",
       "      <td>55.0</td>\n",
       "    </tr>\n",
       "    <tr>\n",
       "      <th>14</th>\n",
       "      <td>GP</td>\n",
       "      <td>M</td>\n",
       "      <td>15</td>\n",
       "      <td>U</td>\n",
       "      <td>GT3</td>\n",
       "      <td>A</td>\n",
       "      <td>2.0</td>\n",
       "      <td>2.0</td>\n",
       "      <td>other</td>\n",
       "      <td>other</td>\n",
       "      <td>home</td>\n",
       "      <td>other</td>\n",
       "      <td>1.0</td>\n",
       "      <td>3.0</td>\n",
       "      <td>0.0</td>\n",
       "      <td>no</td>\n",
       "      <td>yes</td>\n",
       "      <td>no</td>\n",
       "      <td>no</td>\n",
       "      <td>yes</td>\n",
       "      <td>-9.0</td>\n",
       "      <td>yes</td>\n",
       "      <td>yes</td>\n",
       "      <td>yes</td>\n",
       "      <td>4.0</td>\n",
       "      <td>5.0</td>\n",
       "      <td>2.0</td>\n",
       "      <td>3.0</td>\n",
       "      <td>0.0</td>\n",
       "      <td>80.0</td>\n",
       "    </tr>\n",
       "    <tr>\n",
       "      <th>15</th>\n",
       "      <td>GP</td>\n",
       "      <td>F</td>\n",
       "      <td>16</td>\n",
       "      <td>U</td>\n",
       "      <td>GT3</td>\n",
       "      <td>NaN</td>\n",
       "      <td>4.0</td>\n",
       "      <td>4.0</td>\n",
       "      <td>health</td>\n",
       "      <td>other</td>\n",
       "      <td>home</td>\n",
       "      <td>mother</td>\n",
       "      <td>1.0</td>\n",
       "      <td>1.0</td>\n",
       "      <td>0.0</td>\n",
       "      <td>no</td>\n",
       "      <td>yes</td>\n",
       "      <td>no</td>\n",
       "      <td>no</td>\n",
       "      <td>yes</td>\n",
       "      <td>-3.0</td>\n",
       "      <td>yes</td>\n",
       "      <td>yes</td>\n",
       "      <td>no</td>\n",
       "      <td>4.0</td>\n",
       "      <td>4.0</td>\n",
       "      <td>4.0</td>\n",
       "      <td>2.0</td>\n",
       "      <td>4.0</td>\n",
       "      <td>70.0</td>\n",
       "    </tr>\n",
       "    <tr>\n",
       "      <th>16</th>\n",
       "      <td>GP</td>\n",
       "      <td>F</td>\n",
       "      <td>16</td>\n",
       "      <td>U</td>\n",
       "      <td>GT3</td>\n",
       "      <td>T</td>\n",
       "      <td>4.0</td>\n",
       "      <td>4.0</td>\n",
       "      <td>services</td>\n",
       "      <td>services</td>\n",
       "      <td>reputation</td>\n",
       "      <td>mother</td>\n",
       "      <td>1.0</td>\n",
       "      <td>3.0</td>\n",
       "      <td>0.0</td>\n",
       "      <td>no</td>\n",
       "      <td>yes</td>\n",
       "      <td>yes</td>\n",
       "      <td>yes</td>\n",
       "      <td>yes</td>\n",
       "      <td>-9.0</td>\n",
       "      <td>yes</td>\n",
       "      <td>yes</td>\n",
       "      <td>no</td>\n",
       "      <td>3.0</td>\n",
       "      <td>2.0</td>\n",
       "      <td>3.0</td>\n",
       "      <td>2.0</td>\n",
       "      <td>6.0</td>\n",
       "      <td>70.0</td>\n",
       "    </tr>\n",
       "    <tr>\n",
       "      <th>17</th>\n",
       "      <td>GP</td>\n",
       "      <td>F</td>\n",
       "      <td>16</td>\n",
       "      <td>U</td>\n",
       "      <td>GT3</td>\n",
       "      <td>T</td>\n",
       "      <td>3.0</td>\n",
       "      <td>3.0</td>\n",
       "      <td>other</td>\n",
       "      <td>NaN</td>\n",
       "      <td>reputation</td>\n",
       "      <td>mother</td>\n",
       "      <td>3.0</td>\n",
       "      <td>NaN</td>\n",
       "      <td>0.0</td>\n",
       "      <td>yes</td>\n",
       "      <td>NaN</td>\n",
       "      <td>no</td>\n",
       "      <td>yes</td>\n",
       "      <td>yes</td>\n",
       "      <td>NaN</td>\n",
       "      <td>yes</td>\n",
       "      <td>no</td>\n",
       "      <td>no</td>\n",
       "      <td>5.0</td>\n",
       "      <td>3.0</td>\n",
       "      <td>2.0</td>\n",
       "      <td>4.0</td>\n",
       "      <td>4.0</td>\n",
       "      <td>50.0</td>\n",
       "    </tr>\n",
       "    <tr>\n",
       "      <th>18</th>\n",
       "      <td>GP</td>\n",
       "      <td>M</td>\n",
       "      <td>17</td>\n",
       "      <td>U</td>\n",
       "      <td>GT3</td>\n",
       "      <td>T</td>\n",
       "      <td>3.0</td>\n",
       "      <td>2.0</td>\n",
       "      <td>services</td>\n",
       "      <td>services</td>\n",
       "      <td>course</td>\n",
       "      <td>mother</td>\n",
       "      <td>1.0</td>\n",
       "      <td>1.0</td>\n",
       "      <td>3.0</td>\n",
       "      <td>no</td>\n",
       "      <td>yes</td>\n",
       "      <td>NaN</td>\n",
       "      <td>yes</td>\n",
       "      <td>yes</td>\n",
       "      <td>-3.0</td>\n",
       "      <td>yes</td>\n",
       "      <td>yes</td>\n",
       "      <td>no</td>\n",
       "      <td>5.0</td>\n",
       "      <td>5.0</td>\n",
       "      <td>5.0</td>\n",
       "      <td>5.0</td>\n",
       "      <td>16.0</td>\n",
       "      <td>25.0</td>\n",
       "    </tr>\n",
       "    <tr>\n",
       "      <th>19</th>\n",
       "      <td>GP</td>\n",
       "      <td>M</td>\n",
       "      <td>16</td>\n",
       "      <td>U</td>\n",
       "      <td>LE3</td>\n",
       "      <td>T</td>\n",
       "      <td>4.0</td>\n",
       "      <td>3.0</td>\n",
       "      <td>health</td>\n",
       "      <td>other</td>\n",
       "      <td>home</td>\n",
       "      <td>father</td>\n",
       "      <td>1.0</td>\n",
       "      <td>1.0</td>\n",
       "      <td>0.0</td>\n",
       "      <td>no</td>\n",
       "      <td>no</td>\n",
       "      <td>NaN</td>\n",
       "      <td>yes</td>\n",
       "      <td>yes</td>\n",
       "      <td>-3.0</td>\n",
       "      <td>yes</td>\n",
       "      <td>yes</td>\n",
       "      <td>no</td>\n",
       "      <td>3.0</td>\n",
       "      <td>1.0</td>\n",
       "      <td>3.0</td>\n",
       "      <td>5.0</td>\n",
       "      <td>4.0</td>\n",
       "      <td>50.0</td>\n",
       "    </tr>\n",
       "  </tbody>\n",
       "</table>\n",
       "</div>"
      ],
      "text/plain": [
       "   school sex  age address famsize pstatus  medu  fedu      mjob      fjob  \\\n",
       "0      GP   F   18       U     NaN       A   4.0   4.0   at_home   teacher   \n",
       "1      GP   F   17       U     GT3     NaN   1.0   1.0   at_home     other   \n",
       "2      GP   F   15       U     LE3       T   1.0   1.0   at_home     other   \n",
       "3      GP   F   15       U     GT3       T   4.0   2.0    health       NaN   \n",
       "4      GP   F   16       U     GT3       T   3.0   3.0     other     other   \n",
       "5      GP   M   16       U     LE3       T   4.0   3.0  services     other   \n",
       "6      GP   M   16     NaN     LE3       T   2.0   2.0     other     other   \n",
       "7      GP   F   17       U     GT3       A   4.0   4.0     other   teacher   \n",
       "8      GP   M   15       U     LE3       A   3.0   2.0  services     other   \n",
       "9      GP   M   15       U     NaN     NaN   3.0   4.0     other     other   \n",
       "10     GP   F   15       U     GT3       T   4.0   4.0   teacher    health   \n",
       "11     GP   F   15       U     GT3     NaN   2.0  40.0  services     other   \n",
       "12     GP   M   15       U     LE3       T   4.0   4.0    health  services   \n",
       "13     GP   M   15       U     GT3       T   4.0   3.0   teacher     other   \n",
       "14     GP   M   15       U     GT3       A   2.0   2.0     other     other   \n",
       "15     GP   F   16       U     GT3     NaN   4.0   4.0    health     other   \n",
       "16     GP   F   16       U     GT3       T   4.0   4.0  services  services   \n",
       "17     GP   F   16       U     GT3       T   3.0   3.0     other       NaN   \n",
       "18     GP   M   17       U     GT3       T   3.0   2.0  services  services   \n",
       "19     GP   M   16       U     LE3       T   4.0   3.0    health     other   \n",
       "\n",
       "        reason guardian  traveltime  studytime  failures schoolsup famsup  \\\n",
       "0       course   mother         2.0        2.0       0.0       yes     no   \n",
       "1       course   father         1.0        2.0       0.0        no    yes   \n",
       "2        other   mother         1.0        2.0       3.0       yes     no   \n",
       "3         home   mother         1.0        3.0       0.0        no    yes   \n",
       "4         home   father         1.0        2.0       0.0        no    yes   \n",
       "5   reputation   mother         1.0        2.0       0.0        no    yes   \n",
       "6         home   mother         1.0        2.0       0.0        no     no   \n",
       "7         home   mother         2.0        2.0       0.0       yes    yes   \n",
       "8         home   mother         1.0        2.0       0.0        no    yes   \n",
       "9         home   mother         1.0        2.0       0.0        no    yes   \n",
       "10  reputation   mother         1.0        2.0       0.0        no    yes   \n",
       "11  reputation   father         3.0        3.0       0.0        no    yes   \n",
       "12      course   father         1.0        1.0       0.0        no    yes   \n",
       "13      course   mother         2.0        2.0       0.0        no    yes   \n",
       "14        home    other         1.0        3.0       0.0        no    yes   \n",
       "15        home   mother         1.0        1.0       0.0        no    yes   \n",
       "16  reputation   mother         1.0        3.0       0.0        no    yes   \n",
       "17  reputation   mother         3.0        NaN       0.0       yes    NaN   \n",
       "18      course   mother         1.0        1.0       3.0        no    yes   \n",
       "19        home   father         1.0        1.0       0.0        no     no   \n",
       "\n",
       "   paid activities nursery  studytime, granular higher internet romantic  \\\n",
       "0    no         no     yes                 -6.0    yes      NaN       no   \n",
       "1    no         no      no                 -6.0    yes      yes       no   \n",
       "2   NaN         no     yes                 -6.0    yes      yes      NaN   \n",
       "3   yes        yes     yes                 -9.0    yes      yes      yes   \n",
       "4   yes         no     yes                 -6.0    yes       no       no   \n",
       "5   yes        yes     yes                 -6.0    yes      yes       no   \n",
       "6    no         no     yes                 -6.0    yes      yes       no   \n",
       "7    no         no     yes                 -6.0    yes       no       no   \n",
       "8   yes         no     yes                 -6.0    yes      yes       no   \n",
       "9   yes        yes     yes                 -6.0    yes      yes       no   \n",
       "10  yes         no     yes                 -6.0    yes      yes       no   \n",
       "11   no        yes     yes                 -9.0    yes      yes       no   \n",
       "12  yes        yes     yes                 -3.0    yes      NaN       no   \n",
       "13  yes         no     yes                 -6.0    yes      yes      NaN   \n",
       "14   no         no     yes                 -9.0    yes      yes      yes   \n",
       "15   no         no     yes                 -3.0    yes      yes       no   \n",
       "16  yes        yes     yes                 -9.0    yes      yes       no   \n",
       "17   no        yes     yes                  NaN    yes       no       no   \n",
       "18  NaN        yes     yes                 -3.0    yes      yes       no   \n",
       "19  NaN        yes     yes                 -3.0    yes      yes       no   \n",
       "\n",
       "    famrel  freetime  goout  health  absences  score  \n",
       "0      4.0       3.0    4.0     3.0       6.0   30.0  \n",
       "1      5.0       3.0    3.0     3.0       4.0   30.0  \n",
       "2      4.0       3.0    2.0     3.0      10.0   50.0  \n",
       "3      3.0       2.0    2.0     5.0       2.0   75.0  \n",
       "4      4.0       3.0    2.0     5.0       4.0   50.0  \n",
       "5      5.0       4.0    2.0     5.0      10.0   75.0  \n",
       "6      4.0       4.0    4.0     3.0       0.0   55.0  \n",
       "7      4.0       1.0    4.0     1.0       6.0   30.0  \n",
       "8      NaN       2.0    2.0     1.0       0.0   95.0  \n",
       "9      5.0       5.0    1.0     5.0       0.0   75.0  \n",
       "10     3.0       3.0    3.0     2.0       0.0   45.0  \n",
       "11     5.0       2.0    2.0     4.0       4.0   60.0  \n",
       "12     NaN       3.0    3.0     5.0       2.0   70.0  \n",
       "13     5.0       4.0    3.0     3.0       2.0   55.0  \n",
       "14     4.0       5.0    2.0     3.0       0.0   80.0  \n",
       "15     4.0       4.0    4.0     2.0       4.0   70.0  \n",
       "16     3.0       2.0    3.0     2.0       6.0   70.0  \n",
       "17     5.0       3.0    2.0     4.0       4.0   50.0  \n",
       "18     5.0       5.0    5.0     5.0      16.0   25.0  \n",
       "19     3.0       1.0    3.0     5.0       4.0   50.0  "
      ]
     },
     "metadata": {},
     "output_type": "display_data"
    },
    {
     "name": "stdout",
     "output_type": "stream",
     "text": [
      "<class 'pandas.core.frame.DataFrame'>\n",
      "RangeIndex: 395 entries, 0 to 394\n",
      "Data columns (total 30 columns):\n",
      " #   Column               Non-Null Count  Dtype  \n",
      "---  ------               --------------  -----  \n",
      " 0   school               395 non-null    object \n",
      " 1   sex                  395 non-null    object \n",
      " 2   age                  395 non-null    int64  \n",
      " 3   address              378 non-null    object \n",
      " 4   famsize              368 non-null    object \n",
      " 5   pstatus              350 non-null    object \n",
      " 6   medu                 392 non-null    float64\n",
      " 7   fedu                 371 non-null    float64\n",
      " 8   mjob                 376 non-null    object \n",
      " 9   fjob                 359 non-null    object \n",
      " 10  reason               378 non-null    object \n",
      " 11  guardian             364 non-null    object \n",
      " 12  traveltime           367 non-null    float64\n",
      " 13  studytime            388 non-null    float64\n",
      " 14  failures             373 non-null    float64\n",
      " 15  schoolsup            386 non-null    object \n",
      " 16  famsup               356 non-null    object \n",
      " 17  paid                 355 non-null    object \n",
      " 18  activities           381 non-null    object \n",
      " 19  nursery              379 non-null    object \n",
      " 20  studytime, granular  388 non-null    float64\n",
      " 21  higher               375 non-null    object \n",
      " 22  internet             361 non-null    object \n",
      " 23  romantic             364 non-null    object \n",
      " 24  famrel               368 non-null    float64\n",
      " 25  freetime             384 non-null    float64\n",
      " 26  goout                387 non-null    float64\n",
      " 27  health               380 non-null    float64\n",
      " 28  absences             383 non-null    float64\n",
      " 29  score                389 non-null    float64\n",
      "dtypes: float64(12), int64(1), object(17)\n",
      "memory usage: 92.7+ KB\n"
     ]
    }
   ],
   "source": [
    "display(df.head(20))\n",
    "df.info()\n",
    "\n",
    "#col = df['famrel']\n",
    "#col.replace(nan, 'REPLACE', inplace=True)"
   ]
  },
  {
   "cell_type": "markdown",
   "metadata": {},
   "source": [
    "Итого 395 строк (в значениях большинства колонок есть пропуски), 30 столбцов. В датасете 13 числовых столбцов, 17 строковых."
   ]
  },
  {
   "cell_type": "markdown",
   "metadata": {},
   "source": [
    "# Функции для работы со столбцами"
   ]
  },
  {
   "cell_type": "code",
   "execution_count": 3,
   "metadata": {},
   "outputs": [],
   "source": [
    "def get_absence_number(col):\n",
    "    return (col.isnull() | col.isna()).sum()\n",
    "\n",
    "\n",
    "def check_discrete_values(col, list_values):\n",
    "    col_err = col[~col.isin(list_values) & ~col.isnull()]\n",
    "    if col_err.size == 0:\n",
    "        print('Данные корректны.')\n",
    "    else:\n",
    "        print('Данные не корректны:', col_err.value_counts())\n",
    "\n",
    "\n",
    "def check_continuous_values(col, list_borders):\n",
    "    # list_borders.sort()\n",
    "    list_borders = sorted(list_borders)\n",
    "    col_err = col[(col < list_borders[0]) | (col > list_borders[1]) & ~col.isnull()]\n",
    "    if col_err.size == 0:\n",
    "        print('Данные корректны.')\n",
    "    else:\n",
    "        print('Данные не корректны:', col_err.value_counts())\n",
    "\n",
    "\n",
    "# col.replace(40, 4, inplace=True)\n",
    "\n",
    "\n",
    "def remove_value(df, col_name, value):\n",
    "    if (not pd.isnull(value)) and (not pd.isna(value)):\n",
    "        return df[df[col_name] != value]\n",
    "    else:\n",
    "        return df[~(df[col_name].isnull() | df[col_name].isna())]\n",
    "\n",
    "\n",
    "def get_percentiles(col):\n",
    "    list_quant = [col.quantile(0.25), col.quantile(0.75)]\n",
    "    iqr = list_quant[1] - list_quant[0]\n",
    "    diap = [list_quant[0] - 1.5*iqr, list_quant[1] + 1.5*iqr]\n",
    "    return [list_quant, diap, iqr]\n",
    "\n",
    "\n",
    "def print_column_info(col):\n",
    "    num = col.nunique()\n",
    "    if num > 10:\n",
    "        display(col.value_counts().iloc[:10])\n",
    "        print('... other values')\n",
    "    else:\n",
    "        display(col.value_counts())\n",
    "    display(sum(col.value_counts().values))\n",
    "    print(f'Количество пропусков: {get_absence_number(col)}')\n",
    "    print(f'Количество уникальных значений: {col.nunique()}')\n",
    "    print(f'Количество значений, встретившихся более 10 раз: {(col.value_counts()>10).sum()}')\n",
    "\n",
    "\n",
    "def print_column_hist(col, list_borders, list_borders_plot=None):\n",
    "    display(col.describe())\n",
    "    list_perc = get_percentiles(col)\n",
    "    print(f'25-й перцентиль: {list_perc[0][0]},', f'75-й перцентиль: {list_perc[0][1]}',\n",
    "          f'\\nIQR: {list_perc[-1]},', f'Границы выбросов: [{list_perc[1][0]}, {list_perc[1][1]}].')\n",
    "    # col.hist(bins=8, range=list_borders, label='IQR')\n",
    "    if list_borders_plot == None:\n",
    "        list_borders_plot = (list_borders[0] - 2, list_borders[1] + 2)\n",
    "    col.loc[col.between(list_borders[0], list_borders[1])].hist(alpha=0.5,\n",
    "                                                                #bins=10,\n",
    "                                                                range=list_borders_plot,\n",
    "                                                                label='Здравый смысл')\n",
    "    col.loc[col.between(list_perc[1][0], list_perc[1][1])].hist(#bins=10,\n",
    "                                                                range=list_borders_plot,\n",
    "                                                                label='IQR')\n",
    "    plt.legend()\n",
    "    \n",
    "    \n",
    "def get_boxplot(df, col_name, idx=None):\n",
    "    fig, ax = plt.subplots(figsize = (14, 4))\n",
    "    \n",
    "    if df[col_name].nunique() < 10:\n",
    "        df_boxplot = df\n",
    "    else:\n",
    "        df_boxplot = df.loc[df.loc[:, col_name].isin(df.loc[:, col_name].value_counts().index[:10])]\n",
    "        print('get_boxplot: nunique >= 10')\n",
    "    \n",
    "    sns.boxplot(x=col_name, y='score', data=df_boxplot, ax=ax)\n",
    "    plt.xticks(rotation=45)\n",
    "    \n",
    "    if idx == None:\n",
    "        ax.set_title('Boxplot for ' + col_name)\n",
    "    else:\n",
    "        ax.set_title('#' + str(idx) + ' Boxplot for ' + col_name)\n",
    "        \n",
    "    plt.show()\n",
    "    \n",
    "\n",
    "    \n",
    "def get_stat_dif(df, col_name):\n",
    "    \n",
    "    if df[col_name].nunique() < 10:\n",
    "        cols = df.loc[:, col_name].value_counts().index\n",
    "    else:\n",
    "        cols = df.loc[:, col_name].value_counts().index[:10]\n",
    "    \n",
    "    combinations_all = list(combinations(cols, 2))\n",
    "    \n",
    "    for comb in combinations_all:\n",
    "        if ttest_ind(df.loc[df.loc[:, col_name] == comb[0], 'score'], \n",
    "                        df.loc[df.loc[:, col_name] == comb[1], 'score']).pvalue \\\n",
    "            <= 0.05/len(combinations_all): # Учли поправку Бонферони\n",
    "            print('Найдены статистически значимые различия для колонки', col_name)\n",
    "            break"
   ]
  },
  {
   "cell_type": "markdown",
   "metadata": {},
   "source": [
    "# 1. School — аббревиатура школы"
   ]
  },
  {
   "cell_type": "code",
   "execution_count": 4,
   "metadata": {},
   "outputs": [
    {
     "data": {
      "text/plain": [
       "GP    349\n",
       "MS     46\n",
       "Name: school, dtype: int64"
      ]
     },
     "metadata": {},
     "output_type": "display_data"
    },
    {
     "data": {
      "text/plain": [
       "395"
      ]
     },
     "metadata": {},
     "output_type": "display_data"
    },
    {
     "name": "stdout",
     "output_type": "stream",
     "text": [
      "Количество пропусков: 0\n",
      "Количество уникальных значений: 2\n",
      "Количество значений, встретившихся более 10 раз: 2\n"
     ]
    }
   ],
   "source": [
    "col_name = 'school'\n",
    "print_column_info(df[col_name])"
   ]
  },
  {
   "cell_type": "markdown",
   "metadata": {},
   "source": [
    "В данной колонке нет пропусков и некорректных значений, данные приведены для 2х различных школ (преобладает школа GP).\n",
    "Является номинативной переменной, пригодной для дальнейшего анализа без дополнительных действий."
   ]
  },
  {
   "cell_type": "markdown",
   "metadata": {},
   "source": [
    "# 2. Sex — пол ('F', 'M')\n",
    "Так как заданы 2 возможных значения номинативной переменной 'sex', проверим данные в колонке на корректность значений."
   ]
  },
  {
   "cell_type": "code",
   "execution_count": 5,
   "metadata": {},
   "outputs": [
    {
     "name": "stdout",
     "output_type": "stream",
     "text": [
      "Данные корректны.\n"
     ]
    },
    {
     "data": {
      "text/plain": [
       "F    208\n",
       "M    187\n",
       "Name: sex, dtype: int64"
      ]
     },
     "metadata": {},
     "output_type": "display_data"
    },
    {
     "data": {
      "text/plain": [
       "395"
      ]
     },
     "metadata": {},
     "output_type": "display_data"
    },
    {
     "name": "stdout",
     "output_type": "stream",
     "text": [
      "Количество пропусков: 0\n",
      "Количество уникальных значений: 2\n",
      "Количество значений, встретившихся более 10 раз: 2\n"
     ]
    }
   ],
   "source": [
    "col_name = 'sex'\n",
    "check_discrete_values(df[col_name], ('F', 'M'))\n",
    "print_column_info(df[col_name])"
   ]
  },
  {
   "cell_type": "markdown",
   "metadata": {},
   "source": [
    "В данных колонки нет пропусков и некорректных значений, поэтому они пригодны для дальнейшего анализа. Можно заметить, что все ученики распределены по полу примерно поровну (девочек немного больше)."
   ]
  },
  {
   "cell_type": "markdown",
   "metadata": {},
   "source": [
    "# 3. Age — возраст (от 15 до 22)\n",
    "Вначале проверим данные по возрасту на корректность значений."
   ]
  },
  {
   "cell_type": "code",
   "execution_count": 6,
   "metadata": {},
   "outputs": [
    {
     "name": "stdout",
     "output_type": "stream",
     "text": [
      "Данные корректны.\n"
     ]
    },
    {
     "data": {
      "text/plain": [
       "16    104\n",
       "17     98\n",
       "18     82\n",
       "15     82\n",
       "19     24\n",
       "20      3\n",
       "22      1\n",
       "21      1\n",
       "Name: age, dtype: int64"
      ]
     },
     "metadata": {},
     "output_type": "display_data"
    },
    {
     "data": {
      "text/plain": [
       "395"
      ]
     },
     "metadata": {},
     "output_type": "display_data"
    },
    {
     "name": "stdout",
     "output_type": "stream",
     "text": [
      "Количество пропусков: 0\n",
      "Количество уникальных значений: 8\n",
      "Количество значений, встретившихся более 10 раз: 5\n"
     ]
    }
   ],
   "source": [
    "col_name = 'age'\n",
    "check_discrete_values(df[col_name], range(15,23))\n",
    "print_column_info(df[col_name])"
   ]
  },
  {
   "cell_type": "markdown",
   "metadata": {},
   "source": [
    "В колонке нет пропусков и некорректных значений, всего 8 уникальных значений возраста в виде целого числа полных лет.\n",
    "Построим распределение этого числового признака."
   ]
  },
  {
   "cell_type": "code",
   "execution_count": 7,
   "metadata": {},
   "outputs": [
    {
     "data": {
      "text/plain": [
       "count    395.000000\n",
       "mean      16.696203\n",
       "std        1.276043\n",
       "min       15.000000\n",
       "25%       16.000000\n",
       "50%       17.000000\n",
       "75%       18.000000\n",
       "max       22.000000\n",
       "Name: age, dtype: float64"
      ]
     },
     "metadata": {},
     "output_type": "display_data"
    },
    {
     "name": "stdout",
     "output_type": "stream",
     "text": [
      "25-й перцентиль: 16.0, 75-й перцентиль: 18.0 \n",
      "IQR: 2.0, Границы выбросов: [13.0, 21.0].\n"
     ]
    },
    {
     "data": {
      "image/png": "[encoded data removed]",
      "text/plain": [
       "<Figure size 432x288 with 1 Axes>"
      ]
     },
     "metadata": {
      "needs_background": "light"
     },
     "output_type": "display_data"
    }
   ],
   "source": [
    "print_column_hist(df[col_name], (15,22))"
   ]
  },
  {
   "cell_type": "markdown",
   "metadata": {},
   "source": [
    "У признака приблизительно нормальное распределение (форма гистограммы, среднее близко к медиане). Распределение смещено в сторону возрастов 16-19. Если пользоваться критерием интерквартильного расстояния, то значения выше 21 являются выбросами (1 значение в колонке). С другой стороны, переменная возраста может принимать значения от 15 до 22, поэтому нет необходимости устранять этот выброс. Данные в колонке пригодны для дальнейшего анализа."
   ]
  },
  {
   "cell_type": "markdown",
   "metadata": {},
   "source": [
    "# 4. Address — тип адреса ('U', 'R')\n",
    "Проверим данные на корректность значений."
   ]
  },
  {
   "cell_type": "code",
   "execution_count": 8,
   "metadata": {},
   "outputs": [
    {
     "name": "stdout",
     "output_type": "stream",
     "text": [
      "Данные корректны.\n"
     ]
    },
    {
     "data": {
      "text/plain": [
       "U    295\n",
       "R     83\n",
       "Name: address, dtype: int64"
      ]
     },
     "metadata": {},
     "output_type": "display_data"
    },
    {
     "data": {
      "text/plain": [
       "378"
      ]
     },
     "metadata": {},
     "output_type": "display_data"
    },
    {
     "name": "stdout",
     "output_type": "stream",
     "text": [
      "Количество пропусков: 0\n",
      "Количество уникальных значений: 2\n",
      "Количество значений, встретившихся более 10 раз: 2\n"
     ]
    }
   ],
   "source": [
    "col_name = 'address'\n",
    "df = df[~(df[col_name].isnull() | df[col_name].isna())]\n",
    "check_discrete_values(df[col_name], ('U', 'R'))\n",
    "print_column_info(df[col_name])"
   ]
  },
  {
   "cell_type": "markdown",
   "metadata": {},
   "source": [
    "# 5. Famsize — размер семьи ('LE3', 'GT3')\n",
    "Проверим данные на корректность значений."
   ]
  },
  {
   "cell_type": "code",
   "execution_count": 9,
   "metadata": {},
   "outputs": [
    {
     "name": "stdout",
     "output_type": "stream",
     "text": [
      "Данные корректны.\n"
     ]
    },
    {
     "data": {
      "text/plain": [
       "GT3    251\n",
       "LE3    101\n",
       "Name: famsize, dtype: int64"
      ]
     },
     "metadata": {},
     "output_type": "display_data"
    },
    {
     "data": {
      "text/plain": [
       "352"
      ]
     },
     "metadata": {},
     "output_type": "display_data"
    },
    {
     "name": "stdout",
     "output_type": "stream",
     "text": [
      "Количество пропусков: 0\n",
      "Количество уникальных значений: 2\n",
      "Количество значений, встретившихся более 10 раз: 2\n"
     ]
    }
   ],
   "source": [
    "col_name = 'famsize'\n",
    "df = df[~(df[col_name].isnull() | df[col_name].isna())]\n",
    "check_discrete_values(df[col_name], ('LE3', 'GT3'))\n",
    "print_column_info(df[col_name])"
   ]
  },
  {
   "cell_type": "markdown",
   "metadata": {},
   "source": [
    "# 6. Pstatus — статус совместного жилья родителей ('T', 'A')\n",
    "Проверим данные на корректность значений."
   ]
  },
  {
   "cell_type": "code",
   "execution_count": 10,
   "metadata": {},
   "outputs": [
    {
     "name": "stdout",
     "output_type": "stream",
     "text": [
      "Данные корректны.\n"
     ]
    },
    {
     "data": {
      "text/plain": [
       "T    281\n",
       "A     31\n",
       "Name: pstatus, dtype: int64"
      ]
     },
     "metadata": {},
     "output_type": "display_data"
    },
    {
     "data": {
      "text/plain": [
       "312"
      ]
     },
     "metadata": {},
     "output_type": "display_data"
    },
    {
     "name": "stdout",
     "output_type": "stream",
     "text": [
      "Количество пропусков: 0\n",
      "Количество уникальных значений: 2\n",
      "Количество значений, встретившихся более 10 раз: 2\n"
     ]
    }
   ],
   "source": [
    "col_name = 'pstatus'\n",
    "df = df[~(df[col_name].isnull() | df[col_name].isna())]\n",
    "check_discrete_values(df[col_name], ('T', 'A'))\n",
    "print_column_info(df[col_name])"
   ]
  },
  {
   "cell_type": "markdown",
   "metadata": {},
   "source": [
    "# 7. Medu — образование матери (0 - 4)\n",
    "Проверим данные на корректность значений."
   ]
  },
  {
   "cell_type": "code",
   "execution_count": 11,
   "metadata": {},
   "outputs": [
    {
     "name": "stdout",
     "output_type": "stream",
     "text": [
      "Данные корректны.\n"
     ]
    },
    {
     "data": {
      "text/plain": [
       "4.0    107\n",
       "3.0     79\n",
       "2.0     77\n",
       "1.0     46\n",
       "0.0      3\n",
       "Name: medu, dtype: int64"
      ]
     },
     "metadata": {},
     "output_type": "display_data"
    },
    {
     "data": {
      "text/plain": [
       "312"
      ]
     },
     "metadata": {},
     "output_type": "display_data"
    },
    {
     "name": "stdout",
     "output_type": "stream",
     "text": [
      "Количество пропусков: 0\n",
      "Количество уникальных значений: 5\n",
      "Количество значений, встретившихся более 10 раз: 4\n"
     ]
    }
   ],
   "source": [
    "col_name = 'medu'\n",
    "df = df[~(df[col_name].isnull() | df[col_name].isna())]\n",
    "check_discrete_values(df[col_name], range(5))\n",
    "print_column_info(df[col_name])"
   ]
  },
  {
   "cell_type": "markdown",
   "metadata": {},
   "source": [
    "# 8. Fedu — образование отца (0 - 4)\n",
    "Проверим данные на корректность значений."
   ]
  },
  {
   "cell_type": "code",
   "execution_count": 12,
   "metadata": {},
   "outputs": [
    {
     "name": "stdout",
     "output_type": "stream",
     "text": [
      "Данные корректны.\n"
     ]
    },
    {
     "data": {
      "text/plain": [
       "2.0    86\n",
       "3.0    76\n",
       "4.0    72\n",
       "1.0    57\n",
       "0.0     1\n",
       "Name: fedu, dtype: int64"
      ]
     },
     "metadata": {},
     "output_type": "display_data"
    },
    {
     "data": {
      "text/plain": [
       "292"
      ]
     },
     "metadata": {},
     "output_type": "display_data"
    },
    {
     "name": "stdout",
     "output_type": "stream",
     "text": [
      "Количество пропусков: 0\n",
      "Количество уникальных значений: 5\n",
      "Количество значений, встретившихся более 10 раз: 4\n"
     ]
    }
   ],
   "source": [
    "col_name = 'fedu'\n",
    "df = df[~(df[col_name].isnull() | df[col_name].isna())]\n",
    "check_discrete_values(df[col_name], range(5))\n",
    "\n",
    "print_column_info(df[col_name])"
   ]
  },
  {
   "cell_type": "code",
   "execution_count": 13,
   "metadata": {},
   "outputs": [
    {
     "name": "stdout",
     "output_type": "stream",
     "text": [
      "Данные корректны.\n"
     ]
    },
    {
     "data": {
      "text/plain": [
       "2.0    86\n",
       "3.0    76\n",
       "4.0    72\n",
       "1.0    57\n",
       "0.0     1\n",
       "Name: fedu, dtype: int64"
      ]
     },
     "metadata": {},
     "output_type": "display_data"
    },
    {
     "data": {
      "text/plain": [
       "292"
      ]
     },
     "metadata": {},
     "output_type": "display_data"
    },
    {
     "name": "stdout",
     "output_type": "stream",
     "text": [
      "Количество пропусков: 0\n",
      "Количество уникальных значений: 5\n",
      "Количество значений, встретившихся более 10 раз: 4\n"
     ]
    }
   ],
   "source": [
    "df[col_name].replace(40, 4, inplace=True)\n",
    "check_discrete_values(df[col_name], range(5))\n",
    "\n",
    "print_column_info(df[col_name])"
   ]
  },
  {
   "cell_type": "markdown",
   "metadata": {},
   "source": [
    "# 9. Mjob — работа матери ('teacher', 'health', 'services', 'at_home', 'other') "
   ]
  },
  {
   "cell_type": "code",
   "execution_count": 14,
   "metadata": {},
   "outputs": [
    {
     "name": "stdout",
     "output_type": "stream",
     "text": [
      "Данные корректны.\n"
     ]
    },
    {
     "data": {
      "text/plain": [
       "other       101\n",
       "services     73\n",
       "at_home      43\n",
       "teacher      37\n",
       "health       25\n",
       "Name: mjob, dtype: int64"
      ]
     },
     "metadata": {},
     "output_type": "display_data"
    },
    {
     "data": {
      "text/plain": [
       "279"
      ]
     },
     "metadata": {},
     "output_type": "display_data"
    },
    {
     "name": "stdout",
     "output_type": "stream",
     "text": [
      "Количество пропусков: 0\n",
      "Количество уникальных значений: 5\n",
      "Количество значений, встретившихся более 10 раз: 5\n"
     ]
    }
   ],
   "source": [
    "col_name = 'mjob'\n",
    "df = df[~(df[col_name].isnull() | df[col_name].isna())]\n",
    "check_discrete_values(df[col_name], ('teacher','health','services','at_home','other'))\n",
    "print_column_info(df[col_name])"
   ]
  },
  {
   "cell_type": "markdown",
   "metadata": {},
   "source": [
    "# 10. Fjob — работа отца ('teacher', 'health', 'services', 'at_home', 'other') "
   ]
  },
  {
   "cell_type": "code",
   "execution_count": 15,
   "metadata": {},
   "outputs": [
    {
     "name": "stdout",
     "output_type": "stream",
     "text": [
      "Данные корректны.\n"
     ]
    },
    {
     "data": {
      "text/plain": [
       "other       133\n",
       "services     74\n",
       "teacher      21\n",
       "health       12\n",
       "at_home       9\n",
       "Name: fjob, dtype: int64"
      ]
     },
     "metadata": {},
     "output_type": "display_data"
    },
    {
     "data": {
      "text/plain": [
       "249"
      ]
     },
     "metadata": {},
     "output_type": "display_data"
    },
    {
     "name": "stdout",
     "output_type": "stream",
     "text": [
      "Количество пропусков: 0\n",
      "Количество уникальных значений: 5\n",
      "Количество значений, встретившихся более 10 раз: 4\n"
     ]
    }
   ],
   "source": [
    "col_name = 'fjob'\n",
    "df = df[~(df[col_name].isnull() | df[col_name].isna())]\n",
    "check_discrete_values(df[col_name], ('teacher','health','services','at_home','other'))\n",
    "print_column_info(df[col_name])"
   ]
  },
  {
   "cell_type": "markdown",
   "metadata": {},
   "source": [
    "# 11. Reason — причина выбора школы ('home', 'reputation', 'course', 'other')"
   ]
  },
  {
   "cell_type": "code",
   "execution_count": 16,
   "metadata": {},
   "outputs": [
    {
     "name": "stdout",
     "output_type": "stream",
     "text": [
      "Данные корректны.\n"
     ]
    },
    {
     "data": {
      "text/plain": [
       "course        90\n",
       "home          61\n",
       "reputation    60\n",
       "other         27\n",
       "Name: reason, dtype: int64"
      ]
     },
     "metadata": {},
     "output_type": "display_data"
    },
    {
     "data": {
      "text/plain": [
       "238"
      ]
     },
     "metadata": {},
     "output_type": "display_data"
    },
    {
     "name": "stdout",
     "output_type": "stream",
     "text": [
      "Количество пропусков: 0\n",
      "Количество уникальных значений: 4\n",
      "Количество значений, встретившихся более 10 раз: 4\n"
     ]
    }
   ],
   "source": [
    "col_name = 'reason'\n",
    "df = df[~(df[col_name].isnull() | df[col_name].isna())]\n",
    "check_discrete_values(df[col_name], ('home','reputation','course','other'))\n",
    "print_column_info(df[col_name])"
   ]
  },
  {
   "cell_type": "markdown",
   "metadata": {},
   "source": [
    "# 12. Guardian — опекун ('mother', 'father', 'other')"
   ]
  },
  {
   "cell_type": "code",
   "execution_count": 17,
   "metadata": {},
   "outputs": [
    {
     "name": "stdout",
     "output_type": "stream",
     "text": [
      "Данные корректны.\n"
     ]
    },
    {
     "data": {
      "text/plain": [
       "mother    148\n",
       "father     51\n",
       "other      17\n",
       "Name: guardian, dtype: int64"
      ]
     },
     "metadata": {},
     "output_type": "display_data"
    },
    {
     "data": {
      "text/plain": [
       "216"
      ]
     },
     "metadata": {},
     "output_type": "display_data"
    },
    {
     "name": "stdout",
     "output_type": "stream",
     "text": [
      "Количество пропусков: 0\n",
      "Количество уникальных значений: 3\n",
      "Количество значений, встретившихся более 10 раз: 3\n"
     ]
    }
   ],
   "source": [
    "col_name = 'guardian'\n",
    "df = df[~(df[col_name].isnull() | df[col_name].isna())]\n",
    "check_discrete_values(df[col_name], ('mother','father','other'))\n",
    "print_column_info(df[col_name])"
   ]
  },
  {
   "cell_type": "markdown",
   "metadata": {},
   "source": [
    "# 13. Traveltime — время в пути до школы (1 - 4)"
   ]
  },
  {
   "cell_type": "code",
   "execution_count": 18,
   "metadata": {},
   "outputs": [
    {
     "name": "stdout",
     "output_type": "stream",
     "text": [
      "Данные корректны.\n"
     ]
    },
    {
     "data": {
      "text/plain": [
       "1.0    134\n",
       "2.0     57\n",
       "3.0     12\n",
       "4.0      3\n",
       "Name: traveltime, dtype: int64"
      ]
     },
     "metadata": {},
     "output_type": "display_data"
    },
    {
     "data": {
      "text/plain": [
       "206"
      ]
     },
     "metadata": {},
     "output_type": "display_data"
    },
    {
     "name": "stdout",
     "output_type": "stream",
     "text": [
      "Количество пропусков: 0\n",
      "Количество уникальных значений: 4\n",
      "Количество значений, встретившихся более 10 раз: 3\n"
     ]
    }
   ],
   "source": [
    "col_name = 'traveltime'\n",
    "df = df[~(df[col_name].isnull() | df[col_name].isna())]\n",
    "check_discrete_values(df[col_name], range(1,5))\n",
    "print_column_info(df[col_name])"
   ]
  },
  {
   "cell_type": "markdown",
   "metadata": {},
   "source": [
    "# 14. Studytime — время на учёбу помимо школы в неделю (1 - 4)"
   ]
  },
  {
   "cell_type": "code",
   "execution_count": 19,
   "metadata": {},
   "outputs": [
    {
     "name": "stdout",
     "output_type": "stream",
     "text": [
      "Данные корректны.\n"
     ]
    },
    {
     "data": {
      "text/plain": [
       "2.0    107\n",
       "1.0     55\n",
       "3.0     28\n",
       "4.0     14\n",
       "Name: studytime, dtype: int64"
      ]
     },
     "metadata": {},
     "output_type": "display_data"
    },
    {
     "data": {
      "text/plain": [
       "204"
      ]
     },
     "metadata": {},
     "output_type": "display_data"
    },
    {
     "name": "stdout",
     "output_type": "stream",
     "text": [
      "Количество пропусков: 0\n",
      "Количество уникальных значений: 4\n",
      "Количество значений, встретившихся более 10 раз: 4\n"
     ]
    }
   ],
   "source": [
    "col_name = 'studytime'\n",
    "df = df[~(df[col_name].isnull() | df[col_name].isna())]\n",
    "check_discrete_values(df[col_name], range(1,5))\n",
    "print_column_info(df[col_name])"
   ]
  },
  {
   "cell_type": "markdown",
   "metadata": {},
   "source": [
    "# 14.1 Studytime, granular - без описания"
   ]
  },
  {
   "cell_type": "code",
   "execution_count": 20,
   "metadata": {},
   "outputs": [
    {
     "data": {
      "text/html": [
       "<div>\n",
       "<style scoped>\n",
       "    .dataframe tbody tr th:only-of-type {\n",
       "        vertical-align: middle;\n",
       "    }\n",
       "\n",
       "    .dataframe tbody tr th {\n",
       "        vertical-align: top;\n",
       "    }\n",
       "\n",
       "    .dataframe thead th {\n",
       "        text-align: right;\n",
       "    }\n",
       "</style>\n",
       "<table border=\"1\" class=\"dataframe\">\n",
       "  <thead>\n",
       "    <tr style=\"text-align: right;\">\n",
       "      <th></th>\n",
       "      <th>studytime</th>\n",
       "      <th>studytime, granular</th>\n",
       "    </tr>\n",
       "  </thead>\n",
       "  <tbody>\n",
       "    <tr>\n",
       "      <th>studytime</th>\n",
       "      <td>1.0</td>\n",
       "      <td>-1.0</td>\n",
       "    </tr>\n",
       "    <tr>\n",
       "      <th>studytime, granular</th>\n",
       "      <td>-1.0</td>\n",
       "      <td>1.0</td>\n",
       "    </tr>\n",
       "  </tbody>\n",
       "</table>\n",
       "</div>"
      ],
      "text/plain": [
       "                     studytime  studytime, granular\n",
       "studytime                  1.0                 -1.0\n",
       "studytime, granular       -1.0                  1.0"
      ]
     },
     "execution_count": 20,
     "metadata": {},
     "output_type": "execute_result"
    },
    {
     "data": {
      "image/png": "[encoded data removed]",
      "text/plain": [
       "<Figure size 360x360 with 6 Axes>"
      ]
     },
     "metadata": {
      "needs_background": "light"
     },
     "output_type": "display_data"
    }
   ],
   "source": [
    "test_columns = ['studytime', 'studytime, granular']\n",
    "sns.pairplot(df[test_columns], kind = 'reg')\n",
    "df[test_columns].corr()"
   ]
  },
  {
   "cell_type": "code",
   "execution_count": 21,
   "metadata": {},
   "outputs": [],
   "source": [
    "df.drop(['studytime, granular'], inplace = True, axis = 1)"
   ]
  },
  {
   "cell_type": "markdown",
   "metadata": {},
   "source": [
    "# 15. Failures — количество внеучебных неудач (0 - 3)"
   ]
  },
  {
   "cell_type": "code",
   "execution_count": 22,
   "metadata": {},
   "outputs": [
    {
     "name": "stdout",
     "output_type": "stream",
     "text": [
      "Данные корректны.\n"
     ]
    },
    {
     "data": {
      "text/plain": [
       "0.0    160\n",
       "1.0     24\n",
       "3.0      7\n",
       "2.0      5\n",
       "Name: failures, dtype: int64"
      ]
     },
     "metadata": {},
     "output_type": "display_data"
    },
    {
     "data": {
      "text/plain": [
       "196"
      ]
     },
     "metadata": {},
     "output_type": "display_data"
    },
    {
     "name": "stdout",
     "output_type": "stream",
     "text": [
      "Количество пропусков: 0\n",
      "Количество уникальных значений: 4\n",
      "Количество значений, встретившихся более 10 раз: 2\n"
     ]
    }
   ],
   "source": [
    "col_name = 'failures'\n",
    "df = df[~(df[col_name].isnull() | df[col_name].isna())]\n",
    "check_discrete_values(df[col_name], range(4))\n",
    "print_column_info(df[col_name])"
   ]
  },
  {
   "cell_type": "markdown",
   "metadata": {},
   "source": [
    "# 16. Schoolsup — дополнительная образовательная поддержка ('yes', 'no')"
   ]
  },
  {
   "cell_type": "code",
   "execution_count": 23,
   "metadata": {},
   "outputs": [
    {
     "name": "stdout",
     "output_type": "stream",
     "text": [
      "Данные корректны.\n"
     ]
    },
    {
     "data": {
      "text/plain": [
       "no     163\n",
       "yes     29\n",
       "Name: schoolsup, dtype: int64"
      ]
     },
     "metadata": {},
     "output_type": "display_data"
    },
    {
     "data": {
      "text/plain": [
       "192"
      ]
     },
     "metadata": {},
     "output_type": "display_data"
    },
    {
     "name": "stdout",
     "output_type": "stream",
     "text": [
      "Количество пропусков: 0\n",
      "Количество уникальных значений: 2\n",
      "Количество значений, встретившихся более 10 раз: 2\n"
     ]
    }
   ],
   "source": [
    "col_name = 'schoolsup'\n",
    "df = df[~(df[col_name].isnull() | df[col_name].isna())]\n",
    "check_discrete_values(df[col_name], ('yes', 'no'))\n",
    "print_column_info(df[col_name])"
   ]
  },
  {
   "cell_type": "markdown",
   "metadata": {},
   "source": [
    "# 17. Famsup — семейная образовательная поддержка ('yes', 'no')"
   ]
  },
  {
   "cell_type": "code",
   "execution_count": 24,
   "metadata": {},
   "outputs": [
    {
     "name": "stdout",
     "output_type": "stream",
     "text": [
      "Данные корректны.\n"
     ]
    },
    {
     "data": {
      "text/plain": [
       "yes    109\n",
       "no      69\n",
       "Name: famsup, dtype: int64"
      ]
     },
     "metadata": {},
     "output_type": "display_data"
    },
    {
     "data": {
      "text/plain": [
       "178"
      ]
     },
     "metadata": {},
     "output_type": "display_data"
    },
    {
     "name": "stdout",
     "output_type": "stream",
     "text": [
      "Количество пропусков: 0\n",
      "Количество уникальных значений: 2\n",
      "Количество значений, встретившихся более 10 раз: 2\n"
     ]
    }
   ],
   "source": [
    "col_name = 'famsup'\n",
    "df = df[~(df[col_name].isnull() | df[col_name].isna())]\n",
    "check_discrete_values(df[col_name], ('yes', 'no'))\n",
    "print_column_info(df[col_name])"
   ]
  },
  {
   "cell_type": "markdown",
   "metadata": {},
   "source": [
    "# 18. Paid — дополнительные платные занятия по математике ('yes', 'no')"
   ]
  },
  {
   "cell_type": "code",
   "execution_count": 25,
   "metadata": {},
   "outputs": [
    {
     "name": "stdout",
     "output_type": "stream",
     "text": [
      "Данные корректны.\n"
     ]
    },
    {
     "data": {
      "text/plain": [
       "no     87\n",
       "yes    72\n",
       "Name: paid, dtype: int64"
      ]
     },
     "metadata": {},
     "output_type": "display_data"
    },
    {
     "data": {
      "text/plain": [
       "159"
      ]
     },
     "metadata": {},
     "output_type": "display_data"
    },
    {
     "name": "stdout",
     "output_type": "stream",
     "text": [
      "Количество пропусков: 0\n",
      "Количество уникальных значений: 2\n",
      "Количество значений, встретившихся более 10 раз: 2\n"
     ]
    }
   ],
   "source": [
    "col_name = 'paid'\n",
    "df = df[~(df[col_name].isnull() | df[col_name].isna())]\n",
    "check_discrete_values(df[col_name], ('yes', 'no'))\n",
    "print_column_info(df[col_name])"
   ]
  },
  {
   "cell_type": "markdown",
   "metadata": {},
   "source": [
    "# 19. Activities — дополнительные внеучебные занятия ('yes', 'no')"
   ]
  },
  {
   "cell_type": "code",
   "execution_count": 26,
   "metadata": {},
   "outputs": [
    {
     "name": "stdout",
     "output_type": "stream",
     "text": [
      "Данные корректны.\n"
     ]
    },
    {
     "data": {
      "text/plain": [
       "yes    76\n",
       "no     74\n",
       "Name: activities, dtype: int64"
      ]
     },
     "metadata": {},
     "output_type": "display_data"
    },
    {
     "data": {
      "text/plain": [
       "150"
      ]
     },
     "metadata": {},
     "output_type": "display_data"
    },
    {
     "name": "stdout",
     "output_type": "stream",
     "text": [
      "Количество пропусков: 0\n",
      "Количество уникальных значений: 2\n",
      "Количество значений, встретившихся более 10 раз: 2\n"
     ]
    }
   ],
   "source": [
    "col_name = 'activities'\n",
    "df = df[~(df[col_name].isnull() | df[col_name].isna())]\n",
    "check_discrete_values(df[col_name], ('yes', 'no'))\n",
    "print_column_info(df[col_name])"
   ]
  },
  {
   "cell_type": "markdown",
   "metadata": {},
   "source": [
    "# 20. Nursery — посещал детский сад ('yes', 'no')"
   ]
  },
  {
   "cell_type": "code",
   "execution_count": 27,
   "metadata": {},
   "outputs": [
    {
     "name": "stdout",
     "output_type": "stream",
     "text": [
      "Данные корректны.\n"
     ]
    },
    {
     "data": {
      "text/plain": [
       "yes    114\n",
       "no      30\n",
       "Name: nursery, dtype: int64"
      ]
     },
     "metadata": {},
     "output_type": "display_data"
    },
    {
     "data": {
      "text/plain": [
       "144"
      ]
     },
     "metadata": {},
     "output_type": "display_data"
    },
    {
     "name": "stdout",
     "output_type": "stream",
     "text": [
      "Количество пропусков: 0\n",
      "Количество уникальных значений: 2\n",
      "Количество значений, встретившихся более 10 раз: 2\n"
     ]
    }
   ],
   "source": [
    "col_name = 'nursery'\n",
    "df = df[~(df[col_name].isnull() | df[col_name].isna())]\n",
    "check_discrete_values(df[col_name], ('yes', 'no'))\n",
    "print_column_info(df[col_name])"
   ]
  },
  {
   "cell_type": "markdown",
   "metadata": {},
   "source": [
    "# 21. Higher — хочет получить высшее образование ('yes', 'no')"
   ]
  },
  {
   "cell_type": "code",
   "execution_count": 28,
   "metadata": {},
   "outputs": [
    {
     "name": "stdout",
     "output_type": "stream",
     "text": [
      "Данные корректны.\n"
     ]
    },
    {
     "data": {
      "text/plain": [
       "yes    136\n",
       "no       6\n",
       "Name: higher, dtype: int64"
      ]
     },
     "metadata": {},
     "output_type": "display_data"
    },
    {
     "data": {
      "text/plain": [
       "142"
      ]
     },
     "metadata": {},
     "output_type": "display_data"
    },
    {
     "name": "stdout",
     "output_type": "stream",
     "text": [
      "Количество пропусков: 0\n",
      "Количество уникальных значений: 2\n",
      "Количество значений, встретившихся более 10 раз: 1\n"
     ]
    }
   ],
   "source": [
    "col_name = 'higher'\n",
    "df = df[~(df[col_name].isnull() | df[col_name].isna())]\n",
    "check_discrete_values(df[col_name], ('yes', 'no'))\n",
    "print_column_info(df[col_name])"
   ]
  },
  {
   "cell_type": "markdown",
   "metadata": {},
   "source": [
    "# 22. Internet — наличие интернета дома ('yes', 'no')"
   ]
  },
  {
   "cell_type": "code",
   "execution_count": 29,
   "metadata": {},
   "outputs": [
    {
     "name": "stdout",
     "output_type": "stream",
     "text": [
      "Данные корректны.\n"
     ]
    },
    {
     "data": {
      "text/plain": [
       "yes    109\n",
       "no      18\n",
       "Name: internet, dtype: int64"
      ]
     },
     "metadata": {},
     "output_type": "display_data"
    },
    {
     "data": {
      "text/plain": [
       "127"
      ]
     },
     "metadata": {},
     "output_type": "display_data"
    },
    {
     "name": "stdout",
     "output_type": "stream",
     "text": [
      "Количество пропусков: 0\n",
      "Количество уникальных значений: 2\n",
      "Количество значений, встретившихся более 10 раз: 2\n"
     ]
    }
   ],
   "source": [
    "col_name = 'internet'\n",
    "df = df[~(df[col_name].isnull() | df[col_name].isna())]\n",
    "check_discrete_values(df[col_name], ('yes', 'no'))\n",
    "print_column_info(df[col_name])"
   ]
  },
  {
   "cell_type": "markdown",
   "metadata": {},
   "source": [
    "# 23. Romantic — в романтических отношениях ('yes', 'no')"
   ]
  },
  {
   "cell_type": "code",
   "execution_count": 30,
   "metadata": {},
   "outputs": [
    {
     "name": "stdout",
     "output_type": "stream",
     "text": [
      "Данные корректны.\n"
     ]
    },
    {
     "data": {
      "text/plain": [
       "no     75\n",
       "yes    46\n",
       "Name: romantic, dtype: int64"
      ]
     },
     "metadata": {},
     "output_type": "display_data"
    },
    {
     "data": {
      "text/plain": [
       "121"
      ]
     },
     "metadata": {},
     "output_type": "display_data"
    },
    {
     "name": "stdout",
     "output_type": "stream",
     "text": [
      "Количество пропусков: 0\n",
      "Количество уникальных значений: 2\n",
      "Количество значений, встретившихся более 10 раз: 2\n"
     ]
    }
   ],
   "source": [
    "col_name = 'romantic'\n",
    "df = df[~(df[col_name].isnull() | df[col_name].isna())]\n",
    "check_discrete_values(df[col_name], ('yes', 'no'))\n",
    "print_column_info(df[col_name])"
   ]
  },
  {
   "cell_type": "markdown",
   "metadata": {},
   "source": [
    "# 24. Famrel — семейные отношения (1 - 5)"
   ]
  },
  {
   "cell_type": "code",
   "execution_count": 31,
   "metadata": {},
   "outputs": [
    {
     "name": "stdout",
     "output_type": "stream",
     "text": [
      "Данные корректны.\n",
      "Данные корректны.\n"
     ]
    },
    {
     "data": {
      "text/plain": [
       "4.0    59\n",
       "5.0    26\n",
       "3.0    19\n",
       "2.0     6\n",
       "1.0     2\n",
       "Name: famrel, dtype: int64"
      ]
     },
     "metadata": {},
     "output_type": "display_data"
    },
    {
     "data": {
      "text/plain": [
       "112"
      ]
     },
     "metadata": {},
     "output_type": "display_data"
    },
    {
     "name": "stdout",
     "output_type": "stream",
     "text": [
      "Количество пропусков: 0\n",
      "Количество уникальных значений: 5\n",
      "Количество значений, встретившихся более 10 раз: 3\n"
     ]
    }
   ],
   "source": [
    "col_name = 'famrel'\n",
    "df = df[~(df[col_name].isnull() | df[col_name].isna())]\n",
    "check_discrete_values(df[col_name], range(1,6))\n",
    "\n",
    "df[col_name].replace(-1, 1, inplace=True)\n",
    "check_discrete_values(df[col_name], range(1,6))\n",
    "\n",
    "print_column_info(df[col_name])"
   ]
  },
  {
   "cell_type": "markdown",
   "metadata": {},
   "source": [
    "# 25. Freetime — свободное время после школы (1 - 5)"
   ]
  },
  {
   "cell_type": "code",
   "execution_count": 32,
   "metadata": {},
   "outputs": [
    {
     "name": "stdout",
     "output_type": "stream",
     "text": [
      "Данные корректны.\n"
     ]
    },
    {
     "data": {
      "text/plain": [
       "3.0    38\n",
       "4.0    36\n",
       "2.0    15\n",
       "5.0    10\n",
       "1.0    10\n",
       "Name: freetime, dtype: int64"
      ]
     },
     "metadata": {},
     "output_type": "display_data"
    },
    {
     "data": {
      "text/plain": [
       "109"
      ]
     },
     "metadata": {},
     "output_type": "display_data"
    },
    {
     "name": "stdout",
     "output_type": "stream",
     "text": [
      "Количество пропусков: 0\n",
      "Количество уникальных значений: 5\n",
      "Количество значений, встретившихся более 10 раз: 3\n"
     ]
    }
   ],
   "source": [
    "col_name = 'freetime'\n",
    "df = df[~(df[col_name].isnull() | df[col_name].isna())]\n",
    "check_discrete_values(df[col_name], range(1,6))\n",
    "print_column_info(df[col_name])"
   ]
  },
  {
   "cell_type": "markdown",
   "metadata": {},
   "source": [
    "# 26. Goout — проведение времени с друзьями (1 - 5)"
   ]
  },
  {
   "cell_type": "code",
   "execution_count": 33,
   "metadata": {},
   "outputs": [
    {
     "name": "stdout",
     "output_type": "stream",
     "text": [
      "Данные корректны.\n"
     ]
    },
    {
     "data": {
      "text/plain": [
       "3.0    36\n",
       "2.0    29\n",
       "4.0    24\n",
       "5.0    12\n",
       "1.0     5\n",
       "Name: goout, dtype: int64"
      ]
     },
     "metadata": {},
     "output_type": "display_data"
    },
    {
     "data": {
      "text/plain": [
       "106"
      ]
     },
     "metadata": {},
     "output_type": "display_data"
    },
    {
     "name": "stdout",
     "output_type": "stream",
     "text": [
      "Количество пропусков: 0\n",
      "Количество уникальных значений: 5\n",
      "Количество значений, встретившихся более 10 раз: 4\n"
     ]
    }
   ],
   "source": [
    "col_name = 'goout'\n",
    "df = df[~(df[col_name].isnull() | df[col_name].isna())]\n",
    "check_discrete_values(df[col_name], range(1,6))\n",
    "print_column_info(df[col_name])"
   ]
  },
  {
   "cell_type": "markdown",
   "metadata": {},
   "source": [
    "# 27. Health — текущее состояние здоровья (1 - 5)"
   ]
  },
  {
   "cell_type": "code",
   "execution_count": 34,
   "metadata": {},
   "outputs": [
    {
     "name": "stdout",
     "output_type": "stream",
     "text": [
      "Данные корректны.\n"
     ]
    },
    {
     "data": {
      "text/plain": [
       "5.0    31\n",
       "4.0    21\n",
       "3.0    21\n",
       "2.0    15\n",
       "1.0    14\n",
       "Name: health, dtype: int64"
      ]
     },
     "metadata": {},
     "output_type": "display_data"
    },
    {
     "data": {
      "text/plain": [
       "102"
      ]
     },
     "metadata": {},
     "output_type": "display_data"
    },
    {
     "name": "stdout",
     "output_type": "stream",
     "text": [
      "Количество пропусков: 0\n",
      "Количество уникальных значений: 5\n",
      "Количество значений, встретившихся более 10 раз: 5\n"
     ]
    }
   ],
   "source": [
    "col_name = 'health'\n",
    "df = df[~(df[col_name].isnull() | df[col_name].isna())]\n",
    "check_discrete_values(df[col_name], range(1,6))\n",
    "print_column_info(df[col_name])"
   ]
  },
  {
   "cell_type": "markdown",
   "metadata": {},
   "source": [
    "# 28. Absences — количество пропущенных занятий"
   ]
  },
  {
   "cell_type": "code",
   "execution_count": 35,
   "metadata": {},
   "outputs": [
    {
     "name": "stdout",
     "output_type": "stream",
     "text": [
      "Данные корректны.\n",
      "Данные корректны.\n",
      "Данные корректны.\n"
     ]
    },
    {
     "data": {
      "text/plain": [
       "0.0     27\n",
       "4.0     16\n",
       "2.0     13\n",
       "6.0      8\n",
       "10.0     5\n",
       "8.0      4\n",
       "5.0      3\n",
       "16.0     3\n",
       "3.0      3\n",
       "15.0     2\n",
       "Name: absences, dtype: int64"
      ]
     },
     "metadata": {},
     "output_type": "display_data"
    },
    {
     "name": "stdout",
     "output_type": "stream",
     "text": [
      "... other values\n"
     ]
    },
    {
     "data": {
      "text/plain": [
       "98"
      ]
     },
     "metadata": {},
     "output_type": "display_data"
    },
    {
     "name": "stdout",
     "output_type": "stream",
     "text": [
      "Количество пропусков: 0\n",
      "Количество уникальных значений: 21\n",
      "Количество значений, встретившихся более 10 раз: 3\n"
     ]
    }
   ],
   "source": [
    "col_name = 'absences'\n",
    "df = df[~(df[col_name].isnull() | df[col_name].isna())]\n",
    "check_continuous_values(df[col_name], (0,365))\n",
    "\n",
    "df = remove_value(df, col_name, 385)\n",
    "check_continuous_values(df[col_name], (0,365))\n",
    "check_discrete_values(df[col_name], range(366))\n",
    "\n",
    "print_column_info(df[col_name])"
   ]
  },
  {
   "cell_type": "code",
   "execution_count": 36,
   "metadata": {},
   "outputs": [
    {
     "data": {
      "text/plain": [
       "count    98.000000\n",
       "mean      5.663265\n",
       "std       6.941499\n",
       "min       0.000000\n",
       "25%       0.000000\n",
       "50%       4.000000\n",
       "75%       8.000000\n",
       "max      40.000000\n",
       "Name: absences, dtype: float64"
      ]
     },
     "metadata": {},
     "output_type": "display_data"
    },
    {
     "name": "stdout",
     "output_type": "stream",
     "text": [
      "25-й перцентиль: 0.0, 75-й перцентиль: 8.0 \n",
      "IQR: 8.0, Границы выбросов: [-12.0, 20.0].\n"
     ]
    },
    {
     "data": {
      "image/png": "[encoded data removed]",
      "text/plain": [
       "<Figure size 432x288 with 1 Axes>"
      ]
     },
     "metadata": {
      "needs_background": "light"
     },
     "output_type": "display_data"
    }
   ],
   "source": [
    "print_column_hist(df[col_name], (0,365), (-1,35))"
   ]
  },
  {
   "cell_type": "markdown",
   "metadata": {},
   "source": [
    "До 30"
   ]
  },
  {
   "cell_type": "code",
   "execution_count": 37,
   "metadata": {},
   "outputs": [
    {
     "data": {
      "text/plain": [
       "count    97.000000\n",
       "mean      5.309278\n",
       "std       6.023151\n",
       "min       0.000000\n",
       "25%       0.000000\n",
       "50%       4.000000\n",
       "75%       8.000000\n",
       "max      28.000000\n",
       "Name: absences, dtype: float64"
      ]
     },
     "execution_count": 37,
     "metadata": {},
     "output_type": "execute_result"
    }
   ],
   "source": [
    "df = df[df[col_name] <= 30]\n",
    "df[col_name].describe()"
   ]
  },
  {
   "cell_type": "markdown",
   "metadata": {},
   "source": [
    "# 29. Score — баллы по госэкзамену по математике"
   ]
  },
  {
   "cell_type": "code",
   "execution_count": 38,
   "metadata": {},
   "outputs": [
    {
     "name": "stdout",
     "output_type": "stream",
     "text": [
      "Данные корректны.\n"
     ]
    },
    {
     "data": {
      "text/plain": [
       "50.0    13\n",
       "55.0    10\n",
       "65.0    10\n",
       "40.0     9\n",
       "60.0     8\n",
       "75.0     8\n",
       "0.0      7\n",
       "80.0     7\n",
       "45.0     6\n",
       "70.0     5\n",
       "Name: score, dtype: int64"
      ]
     },
     "metadata": {},
     "output_type": "display_data"
    },
    {
     "name": "stdout",
     "output_type": "stream",
     "text": [
      "... other values\n"
     ]
    },
    {
     "data": {
      "text/plain": [
       "96"
      ]
     },
     "metadata": {},
     "output_type": "display_data"
    },
    {
     "name": "stdout",
     "output_type": "stream",
     "text": [
      "Количество пропусков: 0\n",
      "Количество уникальных значений: 15\n",
      "Количество значений, встретившихся более 10 раз: 1\n"
     ]
    }
   ],
   "source": [
    "col_name = 'score'\n",
    "df = df[~(df[col_name].isnull() | df[col_name].isna())]\n",
    "# check_continuous_values(df[col_name], (0,100))\n",
    "check_discrete_values(df[col_name], range(101))\n",
    "print_column_info(df[col_name])"
   ]
  },
  {
   "cell_type": "code",
   "execution_count": 39,
   "metadata": {},
   "outputs": [
    {
     "data": {
      "text/plain": [
       "count    96.000000\n",
       "mean     52.031250\n",
       "std      21.158277\n",
       "min       0.000000\n",
       "25%      40.000000\n",
       "50%      55.000000\n",
       "75%      65.000000\n",
       "max      95.000000\n",
       "Name: score, dtype: float64"
      ]
     },
     "metadata": {},
     "output_type": "display_data"
    },
    {
     "name": "stdout",
     "output_type": "stream",
     "text": [
      "25-й перцентиль: 40.0, 75-й перцентиль: 65.0 \n",
      "IQR: 25.0, Границы выбросов: [2.5, 102.5].\n"
     ]
    },
    {
     "data": {
      "image/png": "[encoded data removed]",
      "text/plain": [
       "<Figure size 432x288 with 1 Axes>"
      ]
     },
     "metadata": {
      "needs_background": "light"
     },
     "output_type": "display_data"
    }
   ],
   "source": [
    "print_column_hist(df[col_name], (0,100))"
   ]
  },
  {
   "cell_type": "markdown",
   "metadata": {},
   "source": [
    "# Корреляционный анализ"
   ]
  },
  {
   "cell_type": "code",
   "execution_count": 40,
   "metadata": {},
   "outputs": [
    {
     "data": {
      "text/plain": [
       "<seaborn.axisgrid.PairGrid at 0x24c2f4ba1c8>"
      ]
     },
     "execution_count": 40,
     "metadata": {},
     "output_type": "execute_result"
    },
    {
     "data": {
      "image/png": "[encoded data removed]",
      "text/plain": [
       "<Figure size 540x540 with 12 Axes>"
      ]
     },
     "metadata": {
      "needs_background": "light"
     },
     "output_type": "display_data"
    }
   ],
   "source": [
    "numeric_columns = ['age', 'absences', 'score'] \n",
    "sns.pairplot(df[numeric_columns], kind = 'reg')"
   ]
  },
  {
   "cell_type": "code",
   "execution_count": 41,
   "metadata": {},
   "outputs": [
    {
     "data": {
      "text/html": [
       "<div>\n",
       "<style scoped>\n",
       "    .dataframe tbody tr th:only-of-type {\n",
       "        vertical-align: middle;\n",
       "    }\n",
       "\n",
       "    .dataframe tbody tr th {\n",
       "        vertical-align: top;\n",
       "    }\n",
       "\n",
       "    .dataframe thead th {\n",
       "        text-align: right;\n",
       "    }\n",
       "</style>\n",
       "<table border=\"1\" class=\"dataframe\">\n",
       "  <thead>\n",
       "    <tr style=\"text-align: right;\">\n",
       "      <th></th>\n",
       "      <th>age</th>\n",
       "      <th>absences</th>\n",
       "      <th>score</th>\n",
       "    </tr>\n",
       "  </thead>\n",
       "  <tbody>\n",
       "    <tr>\n",
       "      <th>age</th>\n",
       "      <td>1.000000</td>\n",
       "      <td>0.070659</td>\n",
       "      <td>-0.191339</td>\n",
       "    </tr>\n",
       "    <tr>\n",
       "      <th>absences</th>\n",
       "      <td>0.070659</td>\n",
       "      <td>1.000000</td>\n",
       "      <td>0.006098</td>\n",
       "    </tr>\n",
       "    <tr>\n",
       "      <th>score</th>\n",
       "      <td>-0.191339</td>\n",
       "      <td>0.006098</td>\n",
       "      <td>1.000000</td>\n",
       "    </tr>\n",
       "  </tbody>\n",
       "</table>\n",
       "</div>"
      ],
      "text/plain": [
       "               age  absences     score\n",
       "age       1.000000  0.070659 -0.191339\n",
       "absences  0.070659  1.000000  0.006098\n",
       "score    -0.191339  0.006098  1.000000"
      ]
     },
     "execution_count": 41,
     "metadata": {},
     "output_type": "execute_result"
    }
   ],
   "source": [
    "df[numeric_columns].corr()"
   ]
  },
  {
   "cell_type": "markdown",
   "metadata": {},
   "source": [
    "# Анализ номинативных переменных"
   ]
  },
  {
   "cell_type": "code",
   "execution_count": 42,
   "metadata": {},
   "outputs": [
    {
     "data": {
      "image/png": "[encoded data removed]",
      "text/plain": [
       "<Figure size 1008x288 with 1 Axes>"
      ]
     },
     "metadata": {
      "needs_background": "light"
     },
     "output_type": "display_data"
    },
    {
     "data": {
      "image/png": "[encoded data removed]",
      "text/plain": [
       "<Figure size 1008x288 with 1 Axes>"
      ]
     },
     "metadata": {
      "needs_background": "light"
     },
     "output_type": "display_data"
    },
    {
     "data": {
      "image/png": "[encoded data removed]",
      "text/plain": [
       "<Figure size 1008x288 with 1 Axes>"
      ]
     },
     "metadata": {
      "needs_background": "light"
     },
     "output_type": "display_data"
    },
    {
     "data": {
      "image/png": "[encoded data removed]",
      "text/plain": [
       "<Figure size 1008x288 with 1 Axes>"
      ]
     },
     "metadata": {
      "needs_background": "light"
     },
     "output_type": "display_data"
    },
    {
     "data": {
      "image/png": "[encoded data removed]",
      "text/plain": [
       "<Figure size 1008x288 with 1 Axes>"
      ]
     },
     "metadata": {
      "needs_background": "light"
     },
     "output_type": "display_data"
    },
    {
     "data": {
      "image/png": "[encoded data removed]",
      "text/plain": [
       "<Figure size 1008x288 with 1 Axes>"
      ]
     },
     "metadata": {
      "needs_background": "light"
     },
     "output_type": "display_data"
    },
    {
     "data": {
      "image/png": "[encoded data removed]",
      "text/plain": [
       "<Figure size 1008x288 with 1 Axes>"
      ]
     },
     "metadata": {
      "needs_background": "light"
     },
     "output_type": "display_data"
    },
    {
     "data": {
      "image/png": "[encoded data removed]",
      "text/plain": [
       "<Figure size 1008x288 with 1 Axes>"
      ]
     },
     "metadata": {
      "needs_background": "light"
     },
     "output_type": "display_data"
    },
    {
     "data": {
      "image/png": "[encoded data removed]",
      "text/plain": [
       "<Figure size 1008x288 with 1 Axes>"
      ]
     },
     "metadata": {
      "needs_background": "light"
     },
     "output_type": "display_data"
    },
    {
     "data": {
      "image/png": "[encoded data removed]",
      "text/plain": [
       "<Figure size 1008x288 with 1 Axes>"
      ]
     },
     "metadata": {
      "needs_background": "light"
     },
     "output_type": "display_data"
    },
    {
     "data": {
      "image/png": "[encoded data removed]",
      "text/plain": [
       "<Figure size 1008x288 with 1 Axes>"
      ]
     },
     "metadata": {
      "needs_background": "light"
     },
     "output_type": "display_data"
    },
    {
     "data": {
      "image/png": "[encoded data removed]",
      "text/plain": [
       "<Figure size 1008x288 with 1 Axes>"
      ]
     },
     "metadata": {
      "needs_background": "light"
     },
     "output_type": "display_data"
    },
    {
     "data": {
      "image/png": "[encoded data removed]",
      "text/plain": [
       "<Figure size 1008x288 with 1 Axes>"
      ]
     },
     "metadata": {
      "needs_background": "light"
     },
     "output_type": "display_data"
    },
    {
     "data": {
      "image/png": "[encoded data removed]",
      "text/plain": [
       "<Figure size 1008x288 with 1 Axes>"
      ]
     },
     "metadata": {
      "needs_background": "light"
     },
     "output_type": "display_data"
    },
    {
     "data": {
      "image/png": "[encoded data removed]",
      "text/plain": [
       "<Figure size 1008x288 with 1 Axes>"
      ]
     },
     "metadata": {
      "needs_background": "light"
     },
     "output_type": "display_data"
    },
    {
     "data": {
      "image/png": "[encoded data removed]",
      "text/plain": [
       "<Figure size 1008x288 with 1 Axes>"
      ]
     },
     "metadata": {
      "needs_background": "light"
     },
     "output_type": "display_data"
    },
    {
     "data": {
      "image/png": "[encoded data removed]",
      "text/plain": [
       "<Figure size 1008x288 with 1 Axes>"
      ]
     },
     "metadata": {
      "needs_background": "light"
     },
     "output_type": "display_data"
    },
    {
     "data": {
      "image/png": "[encoded data removed]",
      "text/plain": [
       "<Figure size 1008x288 with 1 Axes>"
      ]
     },
     "metadata": {
      "needs_background": "light"
     },
     "output_type": "display_data"
    },
    {
     "data": {
      "image/png": "[encoded data removed]",
      "text/plain": [
       "<Figure size 1008x288 with 1 Axes>"
      ]
     },
     "metadata": {
      "needs_background": "light"
     },
     "output_type": "display_data"
    },
    {
     "data": {
      "image/png": "[encoded data removed]",
      "text/plain": [
       "<Figure size 1008x288 with 1 Axes>"
      ]
     },
     "metadata": {
      "needs_background": "light"
     },
     "output_type": "display_data"
    },
    {
     "data": {
      "image/png": "[encoded data removed]",
      "text/plain": [
       "<Figure size 1008x288 with 1 Axes>"
      ]
     },
     "metadata": {
      "needs_background": "light"
     },
     "output_type": "display_data"
    },
    {
     "data": {
      "image/png": "[encoded data removed]",
      "text/plain": [
       "<Figure size 1008x288 with 1 Axes>"
      ]
     },
     "metadata": {
      "needs_background": "light"
     },
     "output_type": "display_data"
    },
    {
     "data": {
      "image/png": "[encoded data removed]",
      "text/plain": [
       "<Figure size 1008x288 with 1 Axes>"
      ]
     },
     "metadata": {
      "needs_background": "light"
     },
     "output_type": "display_data"
    },
    {
     "data": {
      "image/png": "[encoded data removed]",
      "text/plain": [
       "<Figure size 1008x288 with 1 Axes>"
      ]
     },
     "metadata": {
      "needs_background": "light"
     },
     "output_type": "display_data"
    },
    {
     "data": {
      "image/png": "[encoded data removed]",
      "text/plain": [
       "<Figure size 1008x288 with 1 Axes>"
      ]
     },
     "metadata": {
      "needs_background": "light"
     },
     "output_type": "display_data"
    },
    {
     "data": {
      "image/png": "[encoded data removed]",
      "text/plain": [
       "<Figure size 1008x288 with 1 Axes>"
      ]
     },
     "metadata": {
      "needs_background": "light"
     },
     "output_type": "display_data"
    }
   ],
   "source": [
    "counter = 0\n",
    "for col_name in df.columns:\n",
    "    if not col_name in numeric_columns:\n",
    "        counter += 1\n",
    "        get_boxplot(df, col_name, counter)"
   ]
  },
  {
   "cell_type": "code",
   "execution_count": 43,
   "metadata": {},
   "outputs": [
    {
     "name": "stdout",
     "output_type": "stream",
     "text": [
      "Curr: school\n",
      "Curr: sex\n",
      "Найдены статистически значимые различия для колонки sex\n",
      "Curr: address\n",
      "Найдены статистически значимые различия для колонки address\n",
      "Curr: famsize\n",
      "Найдены статистически значимые различия для колонки famsize\n",
      "Curr: pstatus\n",
      "Curr: medu\n",
      "Curr: fedu\n",
      "Curr: mjob\n",
      "Curr: fjob\n",
      "Curr: reason\n",
      "Curr: guardian\n",
      "Curr: traveltime\n",
      "Curr: studytime\n",
      "Curr: failures\n",
      "Найдены статистически значимые различия для колонки failures\n",
      "Curr: schoolsup\n",
      "Curr: famsup\n",
      "Curr: paid\n",
      "Curr: activities\n",
      "Curr: nursery\n",
      "Curr: higher\n",
      "Curr: internet\n",
      "Curr: romantic\n",
      "Curr: famrel\n",
      "Curr: freetime\n",
      "Curr: goout\n",
      "Curr: health\n"
     ]
    },
    {
     "name": "stderr",
     "output_type": "stream",
     "text": [
      "C:\\Users\\mshashanov\\anaconda3\\lib\\site-packages\\numpy\\core\\fromnumeric.py:3584: RuntimeWarning: Degrees of freedom <= 0 for slice\n",
      "  **kwargs)\n",
      "C:\\Users\\mshashanov\\anaconda3\\lib\\site-packages\\numpy\\core\\_methods.py:209: RuntimeWarning: invalid value encountered in double_scalars\n",
      "  ret = ret.dtype.type(ret / rcount)\n",
      "C:\\Users\\mshashanov\\anaconda3\\lib\\site-packages\\scipy\\stats\\_distn_infrastructure.py:903: RuntimeWarning: invalid value encountered in greater\n",
      "  return (a < x) & (x < b)\n",
      "C:\\Users\\mshashanov\\anaconda3\\lib\\site-packages\\scipy\\stats\\_distn_infrastructure.py:903: RuntimeWarning: invalid value encountered in less\n",
      "  return (a < x) & (x < b)\n",
      "C:\\Users\\mshashanov\\anaconda3\\lib\\site-packages\\scipy\\stats\\_distn_infrastructure.py:1912: RuntimeWarning: invalid value encountered in less_equal\n",
      "  cond2 = cond0 & (x <= _a)\n"
     ]
    }
   ],
   "source": [
    "for col_name in df.columns:\n",
    "    if not col_name in numeric_columns:\n",
    "        print('Curr: ' + col_name)\n",
    "        get_stat_dif(df, col_name)"
   ]
  },
  {
   "cell_type": "code",
   "execution_count": 57,
   "metadata": {},
   "outputs": [
    {
     "data": {
      "text/plain": [
       "0"
      ]
     },
     "metadata": {},
     "output_type": "display_data"
    },
    {
     "data": {
      "text/plain": [
       "0"
      ]
     },
     "metadata": {},
     "output_type": "display_data"
    }
   ],
   "source": [
    "display(df.isnull().sum().sum())\n",
    "display(df.isna().sum().sum())"
   ]
  }
 ],
 "metadata": {
  "kernelspec": {
   "display_name": "Python 3",
   "language": "python",
   "name": "python3"
  },
  "language_info": {
   "codemirror_mode": {
    "name": "ipython",
    "version": 3
   },
   "file_extension": ".py",
   "mimetype": "text/x-python",
   "name": "python",
   "nbconvert_exporter": "python",
   "pygments_lexer": "ipython3",
   "version": "3.7.6"
  }
 },
 "nbformat": 4,
 "nbformat_minor": 4
}
